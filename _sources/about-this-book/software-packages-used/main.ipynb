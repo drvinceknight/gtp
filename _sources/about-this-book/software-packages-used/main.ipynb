{
 "cells": [
  {
   "cell_type": "markdown",
   "id": "perfect-particular",
   "metadata": {},
   "source": [
    "<!--proselint ignore typography.symbols.curly_quotes-->\n",
    "\n",
    "# List of software packages used\n",
    "\n",
    "The following Python libraries and the specific versions are used in this book:"
   ]
  },
  {
   "cell_type": "code",
   "execution_count": 1,
   "id": "representative-craps",
   "metadata": {
    "tags": [
     "remove-input",
     "style-check-ignore",
     "nbval-ignore-output"
    ]
   },
   "outputs": [
    {
     "name": "stdout",
     "output_type": "stream",
     "text": [
      "nashpy version: 0.0.20\n",
      "axelrod version: 4.10.0\n"
     ]
    }
   ],
   "source": [
    "import pathlib\n",
    "from importlib.metadata import version, PackageNotFoundError\n",
    "\n",
    "requirements_path = pathlib.Path(\"../../../requirements.txt\")\n",
    "libraries = requirements_path.read_text().split(\"\\n\")\n",
    "\n",
    "for library in filter(lambda line: \"#\" not in line, libraries):\n",
    "    try:\n",
    "        print(f\"{library} version: {version(library)}\")\n",
    "    except PackageNotFoundError:\n",
    "        pass"
   ]
  }
 ],
 "metadata": {
  "jupytext": {
   "formats": "ipynb,md:myst",
   "text_representation": {
    "extension": ".md",
    "format_name": "myst",
    "format_version": 0.12,
    "jupytext_version": "1.6.0"
   }
  },
  "kernelspec": {
   "display_name": "Python 3",
   "language": "python",
   "name": "python3"
  },
  "language_info": {
   "codemirror_mode": {
    "name": "ipython",
    "version": 3
   },
   "file_extension": ".py",
   "mimetype": "text/x-python",
   "name": "python",
   "nbconvert_exporter": "python",
   "pygments_lexer": "ipython3",
   "version": "3.8.8"
  },
  "source_map": [
   13,
   20
  ]
 },
 "nbformat": 4,
 "nbformat_minor": 5
}