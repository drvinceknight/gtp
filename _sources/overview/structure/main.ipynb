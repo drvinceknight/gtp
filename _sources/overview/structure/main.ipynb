{
 "cells": [
  {
   "cell_type": "markdown",
   "id": "chicken-proposition",
   "metadata": {},
   "source": [
    "# How this book is structured\n",
    "\n",
    "<!--proselint ignore misc.annotations-->\n",
    "TODO\n",
    "\n",
    "```{attention}\n",
    "Every chapter will have 4 parts:\n",
    "\n",
    "- A tutorial: you will be walked through solving a problem. You will be\n",
    "  specifically told what to do and what to expect.\n",
    "- A how to section: this will be a shorter more succinct section that will\n",
    "  detail how to carry out specific things.\n",
    "- A further information section: this will be a section with references to\n",
    "  further resources as well as background information about specific things in\n",
    "  the chapter and answers to common questions.\n",
    "- An exercise section: this will be a number of exercises that you can work on.\n",
    "```"
   ]
  }
 ],
 "metadata": {
  "jupytext": {
   "formats": "ipynb,md:myst",
   "text_representation": {
    "extension": ".md",
    "format_name": "myst",
    "format_version": 0.12,
    "jupytext_version": "1.6.0"
   }
  },
  "kernelspec": {
   "display_name": "Python 3",
   "language": "python",
   "name": "python3"
  },
  "language_info": {
   "codemirror_mode": {
    "name": "ipython",
    "version": 3
   },
   "file_extension": ".py",
   "mimetype": "text/x-python",
   "name": "python",
   "nbconvert_exporter": "python",
   "pygments_lexer": "ipython3",
   "version": "3.8.8"
  },
  "source_map": [
   13
  ]
 },
 "nbformat": 4,
 "nbformat_minor": 5
}